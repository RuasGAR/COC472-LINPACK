{
 "cells": [
  {
   "attachments": {},
   "cell_type": "markdown",
   "metadata": {},
   "source": [
    "# Análise do LINPACK Benchmark\n"
   ]
  },
  {
   "attachments": {},
   "cell_type": "markdown",
   "metadata": {},
   "source": [
    "## 1 - Lendo o arquivo e coletando os dados"
   ]
  },
  {
   "attachments": {},
   "cell_type": "markdown",
   "metadata": {},
   "source": [
    " - O arquivo é estruturado com 12 testes de cada combinação de parâmetros (N, NB). Assim, usaremos uma string com ambas as informações como chave de uma lista de tuplas _(tempo-de-parede,gflops)_. Ex: 1000_32 -> [(0.03,2.9828)...]\n",
    "\n",
    " - São 45 sets de parâmetros, com 12 rodadas cada uma. "
   ]
  },
  {
   "cell_type": "code",
   "execution_count": 35,
   "metadata": {},
   "outputs": [],
   "source": [
    "import re\n",
    "from functools import reduce\n",
    "MAX_LINE_TO_READ = 5445\n",
    "\n",
    "\n",
    "data = {}"
   ]
  },
  {
   "cell_type": "code",
   "execution_count": 36,
   "metadata": {},
   "outputs": [],
   "source": [
    "with open(\"HPL.out\", 'r') as f:\n",
    "\n",
    "    counter = 45\n",
    "\n",
    "    for i in range(44): # linhas de introdução para pular\n",
    "        f.readline()\n",
    "\n",
    "    for i in range(45): # 540/12 = 45 sets de teste\n",
    "        \n",
    "        for j in range(12):\n",
    "\n",
    "            if(counter == MAX_LINE_TO_READ):\n",
    "                break\n",
    "\n",
    "            for k in range(3):\n",
    "                f.readline() # lê o cabeçalho\n",
    "                counter += 1\n",
    "\n",
    "            # PARTE IMPORTANTE!!!\n",
    "            info_line = f.readline()\n",
    "            counter += 1 \n",
    "            \n",
    "            info = re.split(r'\\s+', info_line)\n",
    "            _,n, nb, _, _, time, gflops,_ = info\n",
    "            \n",
    "            time = float(time.strip())\n",
    "\n",
    "            base,expo = gflops.split(\"e+\") \n",
    "            base,expo = float(base),int(expo[1:])\n",
    "\n",
    "            gflops = pow(base,expo)\n",
    "\n",
    "            label=f\"{n}_{nb}\"\n",
    "            \n",
    "            if label in data:\n",
    "                data[label].append((time,gflops))\n",
    "\n",
    "            else:\n",
    "                data[label] = [(time,gflops)]\n",
    "\n",
    "            # lê o restante das informações\n",
    "            for m in range(6):\n",
    "                f.readline()\n",
    "                counter += 1\n"
   ]
  },
  {
   "cell_type": "code",
   "execution_count": 37,
   "metadata": {},
   "outputs": [
    {
     "data": {
      "text/plain": [
       "[(10.36, 6.4362),\n",
       " (10.19, 6.5431),\n",
       " (10.17, 6.5547),\n",
       " (10.23, 6.5152),\n",
       " (10.26, 6.4982),\n",
       " (10.4, 6.4137),\n",
       " (10.33, 6.4554),\n",
       " (10.3, 6.4737),\n",
       " (10.61, 6.2864),\n",
       " (10.26, 6.4972),\n",
       " (10.34, 6.4471),\n",
       " (10.33, 6.452)]"
      ]
     },
     "execution_count": 37,
     "metadata": {},
     "output_type": "execute_result"
    }
   ],
   "source": [
    "data[\"10000_128\"]"
   ]
  },
  {
   "attachments": {},
   "cell_type": "markdown",
   "metadata": {},
   "source": [
    "## 2 - Obtendo as médias (tempo e GFLOPS)"
   ]
  },
  {
   "cell_type": "code",
   "execution_count": 38,
   "metadata": {},
   "outputs": [],
   "source": [
    "for key, values in data.items():\n",
    "\n",
    "    time_sum = reduce(lambda t_acc,x: t_acc + x[0],values,0)\n",
    "    gflop_sum = reduce(lambda gfl_acc,x: gfl_acc + x[1],values,0)\n",
    "\n",
    "    mean_time = time_sum/len(values)\n",
    "    mean_gflop = gflop_sum/len(values)\n",
    "\n",
    "    data[key] = (mean_time, mean_gflop)\n"
   ]
  },
  {
   "cell_type": "code",
   "execution_count": 39,
   "metadata": {},
   "outputs": [
    {
     "data": {
      "text/plain": [
       "(10.315, 6.464408333333334)"
      ]
     },
     "execution_count": 39,
     "metadata": {},
     "output_type": "execute_result"
    }
   ],
   "source": [
    "data[\"10000_128\"]"
   ]
  }
 ],
 "metadata": {
  "kernelspec": {
   "display_name": "Python 3",
   "language": "python",
   "name": "python3"
  },
  "language_info": {
   "codemirror_mode": {
    "name": "ipython",
    "version": 3
   },
   "file_extension": ".py",
   "mimetype": "text/x-python",
   "name": "python",
   "nbconvert_exporter": "python",
   "pygments_lexer": "ipython3",
   "version": "3.8.10"
  },
  "orig_nbformat": 4
 },
 "nbformat": 4,
 "nbformat_minor": 2
}
